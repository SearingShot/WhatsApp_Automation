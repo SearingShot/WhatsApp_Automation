{
 "cells": [
  {
   "cell_type": "markdown",
   "id": "8866f51f",
   "metadata": {},
   "source": [
    "# WhatsApp Automation Using Selenium"
   ]
  },
  {
   "cell_type": "markdown",
   "id": "b8eb9fb2",
   "metadata": {},
   "source": [
    "**Import All the Necessary Modules From Selenium library And Time library**"
   ]
  },
  {
   "cell_type": "code",
   "execution_count": 83,
   "id": "982db9c3",
   "metadata": {},
   "outputs": [],
   "source": [
    "from selenium import webdriver\n",
    "from selenium.webdriver.common.by import By\n",
    "from selenium.webdriver.common.keys import Keys\n",
    "from selenium.webdriver.support import expected_conditions as ec\n",
    "from selenium.webdriver.support.ui import WebDriverWait\n",
    "from time import sleep "
   ]
  },
  {
   "cell_type": "markdown",
   "id": "2da8cf79",
   "metadata": {},
   "source": [
    "**Now Create a Chrome WebDriver Instance And Navigate to the WhatsApp Web in it.\n",
    "A Wait variable is created to set explicit Wait time of 600 seconds, This is Done to ensure Webpage can load completely before being made interactable**"
   ]
  },
  {
   "cell_type": "code",
   "execution_count": 84,
   "id": "ccf488fe",
   "metadata": {},
   "outputs": [],
   "source": [
    "Var = webdriver.Chrome() # This helps in Uploading The Downloaded Chrome Driver\n",
    "Var.get(\"https://web.whatsapp.com/\") # Enter the link of whatsapp Web \n",
    "wait = WebDriverWait(Var, 600)"
   ]
  },
  {
   "cell_type": "markdown",
   "id": "8c576c0b",
   "metadata": {},
   "source": [
    "**In Below Code Snippet,**\n"
    "##### 1) Here Name of the Chat that you want to send Message to is entered , and Message that you want to send and path of the image that you want to send is taken as an input.\n",
    "##### 2) x_arg Variable is created, which contains location of the chat where you want to send message to, then after waiting for the chat to be located , it is clicked By making use of its XPATH."
   ]
  },
  {
   "cell_type": "code",
   "execution_count": 85,
   "id": "80d18f87",
   "metadata": {},
   "outputs": [
    {
     "name": "stdout",
     "output_type": "stream",
     "text": [
      "Enter The Message That you want to send :-  Message Is Sent Using automation\n",
      "C:/Users/Jerry.jpg\n"
     ]
    }
   ],
   "source": [
    "target = '\"LocalTest\"' # Name of the chat that You Want to send the message to.\n",
    "message = input(\"Enter The Message That you want to send :-  \") # Input The Message that you want to be sent. \n",
    "image_path = input(\"\") # Path Of the file that You want to Upload\n",
    "x_arg = '//span[contains(@title, ' + target + ')]' # This Locates The Chat In which You want to send the message in.\n",
    "target = wait.until(ec.presence_of_element_located((By.XPATH, x_arg))) # This Makes Automation to wait until the Chat Is located \n",
    "target.click()"
   ]
  },
  {
   "cell_type": "markdown",
   "id": "b77f9214",
   "metadata": {},
   "source": [
    "**In Following Code Snippet,**\n",
    "##### 1) input_box variable Which consists Of Class Name of \"Enter\" key is created. Then Loop is Used to send message Multiple times if needed. \n",
    "##### 2) Attachment Variable is created which contains the location of the attachment option, which is used to send attachments in whatsapp, the Location of Attachment Key is determined by its XPATH. Now that Attachment is clicked. \n",
    "##### 3) Now Location of Add image option is determined by its XPATH, And then The Image key is clicked, where path of the image is provided.\n",
    "##### 4) Now sleep function is used to make sure the image so uploaded from the path is able to load completely, once loaded the location of send button is determined by using its XPATH and then button is Clicked.\n",
    "##### 5) Now We have Successfully Typed Message in Whatsapp Web and also have Uploaded the Image, Using WhatsApp Automation By Selenium"
   ]
  },
  {
   "cell_type": "code",
   "execution_count": 87,
   "id": "e6e5f67c",
   "metadata": {},
   "outputs": [],
   "source": [
    "input_box = Var.find_element(By.CLASS_NAME, '_3Uu1_') # Its a Class Name taken From Inspection For \"Enter\" Key\n",
    "for i in range(1):   # This Loops Shows The number of times You want to send the Message\n",
    "    input_box.send_keys(message + Keys.ENTER) # This Sends The Message By Using Enter key\n",
    "\n",
    "Attachments = Var.find_element(By.XPATH,'//div[@title=\"Attach\"]') # Its a XPATH to The \"Attachments\" Key\n",
    "Attachments.click()\n",
    "Image = Var.find_element(By.XPATH,'//input[@accept=\"image/*,video/mp4,video/3gpp,video/quicktime\"]') \n",
    "# Its a XPATH to The Upload \"Images\" Key\n",
    "Image.send_keys(image_path) # Path Address of the image is used to upload the Image\n",
    "\n",
    "sleep(3) # This is Used to make system wait till it has uploaded the file.\n",
    "\n",
    "send_button = Var.find_element(By.XPATH,'//span[@data-icon=\"send\"]') \n",
    "# Its a XPATH to The \"Send\" Key, Which is clicked to send the uploaded file\n",
    "send_button.click()"
   ]
  }
 ],
 "metadata": {
  "kernelspec": {
   "display_name": "Python 3 (ipykernel)",
   "language": "python",
   "name": "python3"
  },
  "language_info": {
   "codemirror_mode": {
    "name": "ipython",
    "version": 3
   },
   "file_extension": ".py",
   "mimetype": "text/x-python",
   "name": "python",
   "nbconvert_exporter": "python",
   "pygments_lexer": "ipython3",
   "version": "3.10.9"
  }
 },
 "nbformat": 4,
 "nbformat_minor": 5
}
