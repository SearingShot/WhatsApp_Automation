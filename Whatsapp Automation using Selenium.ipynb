{
 "cells": [
  {
   "cell_type": "markdown",
   "id": "4c0f2e51",
   "metadata": {},
   "source": [
    "### Intro To selenium Automation "
   ]
  },
  {
   "cell_type": "code",
   "execution_count": null,
   "id": "9885bf79",
   "metadata": {},
   "outputs": [],
   "source": [
    "from selenium import webdriver"
   ]
  },
  {
   "cell_type": "code",
   "execution_count": 15,
   "id": "58d4fa8a",
   "metadata": {},
   "outputs": [],
   "source": [
    "from selenium.webdriver.common.by import By"
   ]
  },
  {
   "cell_type": "code",
   "execution_count": 16,
   "id": "c41e3056",
   "metadata": {},
   "outputs": [],
   "source": [
    "browser = webdriver.Chrome()"
   ]
  },
  {
   "cell_type": "code",
   "execution_count": 24,
   "id": "1f07e74a",
   "metadata": {},
   "outputs": [],
   "source": [
    "browser.get(\"https://openlibrary.org/\")"
   ]
  },
  {
   "cell_type": "code",
   "execution_count": 25,
   "id": "e1714a6b",
   "metadata": {},
   "outputs": [],
   "source": [
    "command = browser.find_element(By.LINK_TEXT, 'Trending Books')\n",
    "command.click()"
   ]
  },
  {
   "cell_type": "code",
   "execution_count": 26,
   "id": "689fd530",
   "metadata": {},
   "outputs": [],
   "source": [
    "# try by Id , Didnt work before but try it in free time"
   ]
  },
  {
   "cell_type": "markdown",
   "id": "6d6f0c0c",
   "metadata": {},
   "source": [
    "## WhatsApp Automation"
   ]
  },
  {
   "cell_type": "code",
   "execution_count": null,
   "id": "1673bb21",
   "metadata": {},
   "outputs": [],
   "source": [
    "from selenium import webdriver\n",
    "from selenium.webdriver.common.by import By\n",
    "from selenium.webdriver.common.keys import Keys\n",
    "from selenium.webdriver.support import expected_conditions as ec\n",
    "from selenium.webdriver.support.ui import WebDriverWait\n",
    "import time\n",
    "from time import sleep \n",
    "\n",
    "Var = webdriver.Chrome()\n",
    "Var.get(\"https://web.whatsapp.com/\")\n",
    "wait = WebDriverWait(Var, 600)"
   ]
  },
  {
   "cell_type": "code",
   "execution_count": 79,
   "id": "e2c0174d",
   "metadata": {},
   "outputs": [
    {
     "name": "stdout",
     "output_type": "stream",
     "text": [
      "Enter The Message That you want to send :-  Ye Waali Kaisi hai And Good Night !!!\n",
      "C:/Users/Ritika/WOW.jpg\n"
     ]
    }
   ],
   "source": [
    "target = '\"WowMummyPanda\"'\n",
    "# target = '\"choti didi\"'\n",
    "# target = '\"ritu Didi\"' # Name of the chat that You Want to send the message to.\n",
    "message = input(\"Enter The Message That you want to send :-  \")\n",
    "image_path = input(\"\")\n",
    "x_arg = '//span[contains(@title, ' + target + ')]'\n",
    "target = wait.until(ec.presence_of_element_located((By.XPATH, x_arg)))\n",
    "target.click()"
   ]
  },
  {
   "cell_type": "code",
   "execution_count": 80,
   "id": "e851bf15",
   "metadata": {},
   "outputs": [],
   "source": [
    "# input_box = Var.find_element(By.CLASS_NAME, '_3Uu1_') ## 'Enter' Key ke liye classname\n",
    "input_box = Var.find_element(By.CLASS_NAME, '_3Uu1_')\n",
    "for i in range(1):\n",
    "    input_box.send_keys(message + Keys.ENTER)\n",
    "\n",
    "Attachments = Var.find_element(By.XPATH,'//div[@title=\"Attach\"]')\n",
    "Attachments.click()\n",
    "Image = Var.find_element(By.XPATH,'//input[@accept=\"image/*,video/mp4,video/3gpp,video/quicktime\"]')\n",
    "Image.send_keys(image_path)\n",
    "\n",
    "sleep(3)\n",
    "\n",
    "send_button = Var.find_element(By.XPATH,'//span[@data-icon=\"send\"]')\n",
    "send_button.click()"
   ]
  },
  {
   "cell_type": "code",
   "execution_count": null,
   "id": "f1f9fab1",
   "metadata": {},
   "outputs": [],
   "source": []
  },
  {
   "cell_type": "code",
   "execution_count": null,
   "id": "eff42adf",
   "metadata": {},
   "outputs": [],
   "source": []
  }
 ],
 "metadata": {
  "kernelspec": {
   "display_name": "Python 3 (ipykernel)",
   "language": "python",
   "name": "python3"
  },
  "language_info": {
   "codemirror_mode": {
    "name": "ipython",
    "version": 3
   },
   "file_extension": ".py",
   "mimetype": "text/x-python",
   "name": "python",
   "nbconvert_exporter": "python",
   "pygments_lexer": "ipython3",
   "version": "3.10.9"
  }
 },
 "nbformat": 4,
 "nbformat_minor": 5
}
