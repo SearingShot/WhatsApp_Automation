{
 "cells": [
  {
   "cell_type": "markdown",
   "id": "3a2edb4d",
   "metadata": {},
   "source": [
    "# Intro To Selenium Automation "
   ]
  },
  {
   "cell_type": "markdown",
   "id": "39fb4fea",
   "metadata": {},
   "source": [
    "**__Performing an random Automation task on random Website to get the basic Idea Of working Of Selenium__**"
   ]
  },
  {
   "cell_type": "markdown",
   "id": "a401ed9b",
   "metadata": {},
   "source": [
    "*** ***"
   ]
  },
  {
   "cell_type": "markdown",
   "id": "b3bb63d9",
   "metadata": {},
   "source": [
    "### Import necessary modules from the Selenium library"
   ]
  },
  {
   "cell_type": "code",
   "execution_count": null,
   "id": "78ac50e8",
   "metadata": {},
   "outputs": [],
   "source": [
    "from selenium import webdriver \n",
    "from selenium.webdriver.common.by import By"
   ]
  },
  {
   "cell_type": "markdown",
   "id": "b46be4bf",
   "metadata": {},
   "source": [
    "### Create a Chrome WebDriver instance"
   ]
  },
  {
   "cell_type": "code",
   "execution_count": null,
   "id": "4f17763d",
   "metadata": {},
   "outputs": [],
   "source": [
    "browser = webdriver.Chrome()"
   ]
  },
  {
   "cell_type": "markdown",
   "id": "4d77f491",
   "metadata": {},
   "source": [
    "### Navigate to the OpenLibrary website"
   ]
  },
  {
   "cell_type": "code",
   "execution_count": null,
   "id": "afc467c2",
   "metadata": {},
   "outputs": [],
   "source": [
    "browser.get(\"https://openlibrary.org/\")"
   ]
  },
  {
   "cell_type": "markdown",
   "id": "da5e8394",
   "metadata": {},
   "source": [
    "### Find an element on the webpage by its link text ('Trending Books') and Click on the found element"
   ]
  },
  {
   "cell_type": "code",
   "execution_count": null,
   "id": "1a3104aa",
   "metadata": {},
   "outputs": [],
   "source": [
    "command = browser.find_element(By.LINK_TEXT, 'Trending Books')\n",
    "command.click()"
   ]
  }
 ],
 "metadata": {
  "kernelspec": {
   "display_name": "Python 3 (ipykernel)",
   "language": "python",
   "name": "python3"
  },
  "language_info": {
   "codemirror_mode": {
    "name": "ipython",
    "version": 3
   },
   "file_extension": ".py",
   "mimetype": "text/x-python",
   "name": "python",
   "nbconvert_exporter": "python",
   "pygments_lexer": "ipython3",
   "version": "3.10.9"
  }
 },
 "nbformat": 4,
 "nbformat_minor": 5
}
